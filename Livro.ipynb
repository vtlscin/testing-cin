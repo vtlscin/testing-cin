{
 "cells": [
  {
   "cell_type": "markdown",
   "metadata": {},
   "source": [
    "# Intro"
   ]
  },
  {
   "cell_type": "code",
   "execution_count": 27,
   "metadata": {},
   "outputs": [
    {
     "name": "stdout",
     "output_type": "stream",
     "text": [
      "testing cin 0\n",
      "testing cin 1\n",
      "testing cin 2\n",
      "testing cin 3\n",
      "testing cin 4\n",
      "testing cin 5\n",
      "testing cin 6\n",
      "testing cin 7\n",
      "testing cin 8\n",
      "testing cin 9\n",
      "testing cin 10\n",
      "testing cin 11\n",
      "testing cin 12\n",
      "testing cin 13\n",
      "testing cin 14\n",
      "testing cin 15\n",
      "testing cin 16\n",
      "testing cin 17\n",
      "testing cin 18\n",
      "testing cin 19\n",
      "testing cin 20\n",
      "testing cin 21\n",
      "testing cin 22\n",
      "testing cin 23\n",
      "testing cin 24\n",
      "testing cin 25\n",
      "testing cin 26\n",
      "testing cin 27\n",
      "testing cin 28\n",
      "testing cin 29\n"
     ]
    }
   ],
   "source": [
    "for x in list(range(0, 30)):\n",
    "    print ('testing cin ' + str(x))"
   ]
  },
  {
   "cell_type": "markdown",
   "metadata": {},
   "source": [
    "# Python\n",
    "## Trabalhando com numpy\n",
    "- [Link para numpy notebook](./numpy.ipynb)"
   ]
  },
  {
   "cell_type": "markdown",
   "metadata": {},
   "source": [
    "\n",
    "# Java\n",
    "## Trabalhando com java\n",
    "- [Link para java notebook](./java.ipynb)"
   ]
  },
  {
   "cell_type": "markdown",
   "metadata": {
    "pycharm": {
     "name": "#%% md\n"
    }
   },
   "source": [
    "# Javascript\n",
    "## Trabalhando com javascript\n",
    "- [Link para javascript notebook](./javascript.ipynb)"
   ]
  }
 ],
 "metadata": {
  "kernelspec": {
   "display_name": "Python 3",
   "language": "python",
   "name": "python3"
  },
  "language_info": {
   "codemirror_mode": {
    "name": "ipython",
    "version": 3
   },
   "file_extension": ".py",
   "mimetype": "text/x-python",
   "name": "python",
   "nbconvert_exporter": "python",
   "pygments_lexer": "ipython3",
   "version": "3.6.9"
  }
 },
 "nbformat": 4,
 "nbformat_minor": 4
}